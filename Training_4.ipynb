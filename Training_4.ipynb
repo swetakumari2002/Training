{
 "cells": [
  {
   "cell_type": "code",
   "execution_count": 15,
   "metadata": {},
   "outputs": [
    {
     "name": "stdout",
     "output_type": "stream",
     "text": [
      "200\n",
      "this is inside class\n"
     ]
    }
   ],
   "source": [
    "class fidelity:\n",
    "    x=200\n",
    "    \n",
    "    def func1(self):\n",
    "        print(\"this is inside class\")\n",
    "    \n",
    "class fed1:\n",
    "    pass\n",
    "\n",
    "class m1:\n",
    "    def __init__(self,name):\n",
    "        self.name=name\n",
    "        \n",
    "    def say_hi(self):\n",
    "        print(\"Hello, My name is \",self.name)\n",
    "        \n",
    "\n",
    "fed=fidelity()\n",
    "print(fed.x)\n",
    "fed.func1()"
   ]
  },
  {
   "cell_type": "code",
   "execution_count": 16,
   "metadata": {},
   "outputs": [
    {
     "name": "stdout",
     "output_type": "stream",
     "text": [
      "Second element = 2\n",
      "this is exception\n"
     ]
    }
   ],
   "source": [
    "a = [1, 2, 3]\n",
    "try:\n",
    "    print (\"Second element = %d\" %(a[1]))\n",
    "\t\n",
    "    print (\"Fourth element = %d\" %(a[4]))\n",
    "except:\n",
    "    print(\"this is exception\")"
   ]
  },
  {
   "cell_type": "code",
   "execution_count": 17,
   "metadata": {},
   "outputs": [
    {
     "name": "stdout",
     "output_type": "stream",
     "text": [
      "This statement is raising an arithmetic exception.\n"
     ]
    }
   ],
   "source": [
    "try:\n",
    "\ta = 10/0\n",
    "\tprint (a)\n",
    "except ArithmeticError:\n",
    "\t\tprint (\"This statement is raising an arithmetic exception.\")\n",
    "else:\n",
    "\tprint (\"Success.\")"
   ]
  },
  {
   "cell_type": "code",
   "execution_count": 19,
   "metadata": {},
   "outputs": [
    {
     "name": "stdout",
     "output_type": "stream",
     "text": [
      "2.6881171418161356e+43\n"
     ]
    }
   ],
   "source": [
    "import math\n",
    "\n",
    "print (math.exp(100))"
   ]
  },
  {
   "cell_type": "code",
   "execution_count": 20,
   "metadata": {},
   "outputs": [
    {
     "ename": "AttributeError",
     "evalue": "'generator' object has no attribute '_next_'",
     "output_type": "error",
     "traceback": [
      "\u001b[0;31m---------------------------------------------------------------------------\u001b[0m",
      "\u001b[0;31mAttributeError\u001b[0m                            Traceback (most recent call last)",
      "\u001b[0;32m<ipython-input-20-2823c2f6e904>\u001b[0m in \u001b[0;36m<module>\u001b[0;34m\u001b[0m\n\u001b[1;32m      8\u001b[0m \u001b[0;34m\u001b[0m\u001b[0m\n\u001b[1;32m      9\u001b[0m \u001b[0mg\u001b[0m \u001b[0;34m=\u001b[0m \u001b[0mmy_generator\u001b[0m\u001b[0;34m(\u001b[0m\u001b[0;34m)\u001b[0m\u001b[0;34m\u001b[0m\u001b[0;34m\u001b[0m\u001b[0m\n\u001b[0;32m---> 10\u001b[0;31m \u001b[0mprint\u001b[0m \u001b[0;34m(\u001b[0m\u001b[0mg\u001b[0m\u001b[0;34m.\u001b[0m\u001b[0m_next_\u001b[0m\u001b[0;34m(\u001b[0m\u001b[0;34m)\u001b[0m\u001b[0;34m)\u001b[0m\u001b[0;34m\u001b[0m\u001b[0;34m\u001b[0m\u001b[0m\n\u001b[0m\u001b[1;32m     11\u001b[0m \u001b[0mg\u001b[0m\u001b[0;34m.\u001b[0m\u001b[0mclose\u001b[0m\u001b[0;34m(\u001b[0m\u001b[0;34m)\u001b[0m\u001b[0;34m\u001b[0m\u001b[0;34m\u001b[0m\u001b[0m\n",
      "\u001b[0;31mAttributeError\u001b[0m: 'generator' object has no attribute '_next_'"
     ]
    }
   ],
   "source": [
    "def my_generator():\n",
    "\ttry:\n",
    "\t\tfor i in range(5):\n",
    "\t\t\tprint ('Yielding', i)\n",
    "\t\t\tyield i\n",
    "\texcept GeneratorExit:\n",
    "\t\tprint ('Exiting early')\n",
    "\n",
    "g = my_generator()\n",
    "print (g._next_())\n",
    "g.close()"
   ]
  },
  {
   "cell_type": "code",
   "execution_count": 21,
   "metadata": {},
   "outputs": [
    {
     "ename": "AttributeError",
     "evalue": "'TransitionError' object has no attribute 'msg'",
     "output_type": "error",
     "traceback": [
      "\u001b[0;31m---------------------------------------------------------------------------\u001b[0m",
      "\u001b[0;31mTransitionError\u001b[0m                           Traceback (most recent call last)",
      "\u001b[0;32m<ipython-input-21-dbfd7b5656ba>\u001b[0m in \u001b[0;36m<module>\u001b[0;34m\u001b[0m\n\u001b[1;32m     10\u001b[0m \u001b[0;32mtry\u001b[0m\u001b[0;34m:\u001b[0m\u001b[0;34m\u001b[0m\u001b[0;34m\u001b[0m\u001b[0m\n\u001b[0;32m---> 11\u001b[0;31m         \u001b[0;32mraise\u001b[0m\u001b[0;34m(\u001b[0m\u001b[0mTransitionError\u001b[0m\u001b[0;34m(\u001b[0m\u001b[0;36m2\u001b[0m\u001b[0;34m,\u001b[0m\u001b[0;36m3\u001b[0m\u001b[0;34m*\u001b[0m\u001b[0;36m2\u001b[0m\u001b[0;34m,\u001b[0m\u001b[0;34m\"Not Allowed\"\u001b[0m\u001b[0;34m)\u001b[0m\u001b[0;34m)\u001b[0m\u001b[0;34m\u001b[0m\u001b[0;34m\u001b[0m\u001b[0m\n\u001b[0m\u001b[1;32m     12\u001b[0m \u001b[0;34m\u001b[0m\u001b[0m\n",
      "\u001b[0;31mTransitionError\u001b[0m: (2, 6, 'Not Allowed')",
      "\nDuring handling of the above exception, another exception occurred:\n",
      "\u001b[0;31mAttributeError\u001b[0m                            Traceback (most recent call last)",
      "\u001b[0;32m<ipython-input-21-dbfd7b5656ba>\u001b[0m in \u001b[0;36m<module>\u001b[0;34m\u001b[0m\n\u001b[1;32m     12\u001b[0m \u001b[0;34m\u001b[0m\u001b[0m\n\u001b[1;32m     13\u001b[0m \u001b[0;32mexcept\u001b[0m \u001b[0mTransitionError\u001b[0m \u001b[0;32mas\u001b[0m \u001b[0merror\u001b[0m\u001b[0;34m:\u001b[0m\u001b[0;34m\u001b[0m\u001b[0;34m\u001b[0m\u001b[0m\n\u001b[0;32m---> 14\u001b[0;31m         \u001b[0mprint\u001b[0m\u001b[0;34m(\u001b[0m\u001b[0;34m'Exception occured: '\u001b[0m\u001b[0;34m,\u001b[0m\u001b[0merror\u001b[0m\u001b[0;34m.\u001b[0m\u001b[0mmsg\u001b[0m\u001b[0;34m)\u001b[0m\u001b[0;34m\u001b[0m\u001b[0;34m\u001b[0m\u001b[0m\n\u001b[0m",
      "\u001b[0;31mAttributeError\u001b[0m: 'TransitionError' object has no attribute 'msg'"
     ]
    }
   ],
   "source": [
    "class Error(Exception):\n",
    "\tpass\n",
    "\n",
    "class TransitionError(Error):\n",
    "\n",
    "\tdef _init_(self, prev, nex, msg):\n",
    "\t\tself.prev = prev\n",
    "\t\tself.next = nex\t\t\n",
    "\t\tself.msg = msg\n",
    "try:\n",
    "\traise(TransitionError(2,3*2,\"Not Allowed\"))\n",
    "\n",
    "except TransitionError as error:\n",
    "\tprint('Exception occured: ',error.msg)"
   ]
  },
  {
   "cell_type": "code",
   "execution_count": 22,
   "metadata": {},
   "outputs": [],
   "source": [
    "try:\n",
    "    file = open('fed.txt', 'r')\n",
    "except:\n",
    "    file =open('fed.txt','w')"
   ]
  },
  {
   "cell_type": "code",
   "execution_count": 24,
   "metadata": {},
   "outputs": [
    {
     "ename": "UnsupportedOperation",
     "evalue": "not writable",
     "output_type": "error",
     "traceback": [
      "\u001b[0;31m---------------------------------------------------------------------------\u001b[0m",
      "\u001b[0;31mUnsupportedOperation\u001b[0m                      Traceback (most recent call last)",
      "\u001b[0;32m<ipython-input-24-80c58b4077fb>\u001b[0m in \u001b[0;36m<module>\u001b[0;34m\u001b[0m\n\u001b[0;32m----> 1\u001b[0;31m \u001b[0mfile\u001b[0m\u001b[0;34m.\u001b[0m\u001b[0mwrite\u001b[0m\u001b[0;34m(\u001b[0m\u001b[0;34m\"jfyjhb\\ndtfghb\\nesdfhgvbj\"\u001b[0m\u001b[0;34m)\u001b[0m\u001b[0;34m\u001b[0m\u001b[0;34m\u001b[0m\u001b[0m\n\u001b[0m",
      "\u001b[0;31mUnsupportedOperation\u001b[0m: not writable"
     ]
    }
   ],
   "source": [
    "file.write(\"jfyjhb\\ndtfghb\\nesdfhgvbj\")"
   ]
  },
  {
   "cell_type": "code",
   "execution_count": 34,
   "metadata": {},
   "outputs": [
    {
     "data": {
      "text/plain": [
       "'   hvbn cjgvhb\\nrdfghhh'"
      ]
     },
     "execution_count": 34,
     "metadata": {},
     "output_type": "execute_result"
    }
   ],
   "source": [
    "a=\"   hvbn cjgvhb\\nrdfghhh    \"\n",
    "a.rstrip()"
   ]
  },
  {
   "cell_type": "code",
   "execution_count": 79,
   "metadata": {},
   "outputs": [
    {
     "name": "stdout",
     "output_type": "stream",
     "text": [
      "strdfhgvhbfyghjkhbjnmbkjnkm.bnmcvbgvhbjnvhbj vhbjnkml vhbjkl vhbjkcgvh vhbjkvhbkjkl.   hjkcgvhbjstrdfhgvhbfyghjkhbjnmbkjnkm.bnmcvbgvhbjnvhbj vhbjnkml vhbjkl vhbjkcgvh vhbjkvhbkjkl.   hjkcgvhbj\n",
      "\n",
      "\n",
      "strdfhgvhbfyghjkhbjnmbkjnkm.bnmcvbgvhbjnvhbj vhbjnkml vhbjkl vhbjkcgvh vhbjkvhbkjkl.   hjkcgvhbjstrdfhgvhbfyghjkhbjnmbkjnkm.bnmcvbgvhbjnvhbj vhbjnkml vhbjkl vhbjkcgvh vhbjkvhbkjkl.   hjkcgvhbj\n"
     ]
    }
   ],
   "source": [
    "try:\n",
    "    file = open('untitled.txt', 'r')\n",
    "except:\n",
    "    file =open('untitled.txt','w')\n",
    "\n",
    "for i in file:\n",
    "    print(i)\n",
    "print(file.readline())\n",
    "\n",
    "print(file.readline())\n",
    "with open(\"untitled.txt\") as file:\n",
    "    for i in file:\n",
    "            print (i)"
   ]
  },
  {
   "cell_type": "code",
   "execution_count": 95,
   "metadata": {},
   "outputs": [
    {
     "name": "stdout",
     "output_type": "stream",
     "text": [
      "strdfhgvhb\n",
      "fyghjk\n",
      "hbjnm\n",
      "bkjnkm.\n",
      "bnm\n",
      "cvb\n",
      "gvhbjn\n",
      "vhbj\n",
      "vhbjnkml\n",
      "vhbjkl\n",
      "vhbjk\n",
      "cgvh\n",
      "vhbjk\n",
      "vhbkjkl.\n",
      "hjk\n",
      "cgvhbj\n"
     ]
    }
   ],
   "source": [
    "###read file word by word\n",
    "with open('untitled.txt','r') as obj:\n",
    "    for i in obj:\n",
    "        for j in i.split():\n",
    "            print(j)"
   ]
  },
  {
   "cell_type": "code",
   "execution_count": 84,
   "metadata": {},
   "outputs": [],
   "source": [
    "###merge two files into third\n",
    "\n",
    "with open('untitled.txt','r') as obj1:\n",
    "    d1=obj1.read()\n",
    "with open('untitled1.txt','r') as obj1:\n",
    "    d2=obj1.read()\n",
    "d3=d1+\"\\n\"+d2\n",
    "with open('untitled3.txt','w') as obj1:\n",
    "    obj1.write(d3)"
   ]
  },
  {
   "cell_type": "code",
   "execution_count": 85,
   "metadata": {},
   "outputs": [
    {
     "name": "stdout",
     "output_type": "stream",
     "text": [
      "11\n",
      "9\n",
      "20\n"
     ]
    }
   ],
   "source": [
    "###count no. of lines in text file\n",
    "with open('untitled.txt','r') as obj:\n",
    "    c=0\n",
    "    for i in obj:\n",
    "        c+=1\n",
    "    print(c)\n",
    "with open('untitled1.txt','r') as obj:\n",
    "    c=0\n",
    "    for i in obj:\n",
    "        c+=1\n",
    "    print(c)\n",
    "with open('untitled3.txt','r') as obj:\n",
    "    c=0\n",
    "    for i in obj:\n",
    "        c+=1\n",
    "    print(c)"
   ]
  },
  {
   "cell_type": "code",
   "execution_count": 68,
   "metadata": {},
   "outputs": [
    {
     "name": "stdout",
     "output_type": "stream",
     "text": [
      "cgvhbj\n",
      "  vhbkjkl.   hjk\n",
      "cgvh vhbjk\n",
      "vhbj vhbjnkml vhbjkl vhbjk\n",
      "gvhbjn\n",
      "  cvb\n",
      "   bnm\n",
      "   bkjnkm. \n",
      "hbjnm\n",
      "fyghjk\n",
      "strdfhgvhb\n",
      "cgvhbj\n",
      "  vhbkjkl.   hjk\n",
      "cgvh vhbjk\n",
      "vhbj vhbjnkml vhbjkl vhbjk\n",
      "gvhbjn\n",
      "  cvb\n",
      "   bnm\n",
      "   bkjnkm. \n",
      "hbjnm\n",
      "fyghjk\n",
      "strdfhgvhb\n"
     ]
    }
   ],
   "source": [
    "class Stack:\n",
    "      \n",
    "    def __init__(self):\n",
    "        self._arr = []\n",
    "          \n",
    "    def push(self, val):\n",
    "        self._arr.append(val)\n",
    "   \n",
    "    def is_empty(self):\n",
    "        return len(self._arr) == 0\n",
    "  \n",
    "    def pop(self):  \n",
    "        if self.is_empty():\n",
    "            print(\"Stack is empty\")\n",
    "            return\n",
    "          \n",
    "        return self._arr.pop()\n",
    "  \n",
    "\n",
    "def reverse_file(filename):\n",
    "    S=Stack()\n",
    "    with open(filename) as original:\n",
    "        for i in original:\n",
    "            S.push(i.rstrip(\"\\n\"))\n",
    "             \n",
    "       \n",
    "    with open(filename, 'w') as output:\n",
    "        while not S.is_empty():\n",
    "            output.write(S.pop()+\"\\n\")  \n",
    "  \n",
    "\n",
    "filename = \"untitled.txt\"\n",
    "  \n",
    "reverse_file(filename)\n",
    "   \n",
    "with open(filename) as obj:\n",
    "        for i in obj.readlines():\n",
    "            print(i, end =\"\")"
   ]
  },
  {
   "cell_type": "code",
   "execution_count": 97,
   "metadata": {},
   "outputs": [
    {
     "name": "stdout",
     "output_type": "stream",
     "text": [
      "cgvhbj\n",
      "\n",
      "  vhbkjkl.   hjk\n",
      "\n",
      "\n",
      "\n",
      "cgvh vhbjk\n",
      "\n",
      "\n",
      "\n",
      "vhbj vhbjnkml vhbjkl vhbjk\n",
      "\n",
      "\n",
      "\n",
      "gvhbjn\n",
      "\n",
      "\n",
      "\n",
      "  cvb\n",
      "\n",
      "\n",
      "\n",
      "   bnm\n",
      "\n",
      "\n",
      "\n",
      "   bkjnkm. \n",
      "\n",
      "\n",
      "\n",
      "hbjnm\n",
      "\n",
      "\n",
      "\n",
      "fyghjk\n",
      "\n",
      "\n",
      "\n",
      "strdfhgvhb\n",
      "\n",
      "\n",
      "\n",
      "0.0048182010650634766\n"
     ]
    }
   ],
   "source": [
    "import queue\n",
    "import time\n",
    "t1=time.time()\n",
    "q=queue.LifoQueue()\n",
    "with open(\"Untitled.txt\",'r') as obj:\n",
    "    for i in obj:\n",
    "        q.put(i)\n",
    "with open('Untitled.txt', 'w') as obj:\n",
    "    while q.empty() !=True:\n",
    "        obj.write(q.get()+'\\n')  \n",
    "t2=time.time()\n",
    "with open('Untitled.txt','r') as obj:\n",
    "        for i in obj.readlines():\n",
    "            print(i)\n",
    "print(t2-t1)"
   ]
  },
  {
   "cell_type": "code",
   "execution_count": 102,
   "metadata": {},
   "outputs": [
    {
     "name": "stdout",
     "output_type": "stream",
     "text": [
      "Start Index: 8\n",
      "End Index: 16\n",
      "<re.Match object; span=(0, 1), match='p'>\n",
      "<re.Match object; span=(7, 8), match='.'>\n"
     ]
    }
   ],
   "source": [
    "import re\n",
    "\n",
    "str1= \"This is Fidelity Training. I do this trainig\"\n",
    "\n",
    "match = re.search(r'Fidelity',str1)\n",
    "\n",
    "print('Start Index:', match.start())\n",
    "print('End Index:', match.end())\n",
    "\n",
    "str2 = 'praveen.hegde'\n",
    "\n",
    "match = re.search(r'.', str2)\n",
    "print(match)\n",
    "\n",
    "\n",
    "match = re.search(r'\\.', str2)\n",
    "print(match)"
   ]
  },
  {
   "cell_type": "code",
   "execution_count": null,
   "metadata": {},
   "outputs": [],
   "source": [
    "###Python program to extract IP address from file\n",
    "with open(\"ip.txt\",\"r\") as file:\n",
    "    for line in file:\n",
    "        print(re.findall(\"[0-9.]+\",line))"
   ]
  },
  {
   "cell_type": "code",
   "execution_count": null,
   "metadata": {},
   "outputs": [],
   "source": [
    "###Python Program to check if a string starts with a substring using regex\n",
    "string=\"our friends are happy\"\n",
    "list1=re.findall(\"\\Amy friends\",string)\n",
    "#print(list1)\n",
    "if len(list1)<1:\n",
    "    print(\"The string does not start with the required substring(regex)\")\n",
    "else:\n",
    "    print(\"it starts\")"
   ]
  },
  {
   "cell_type": "code",
   "execution_count": null,
   "metadata": {},
   "outputs": [],
   "source": [
    "###Python Program to Remove duplicate words from Sentence\n",
    "a=re.findall(\"[A-Za-z0-9]+\",\"Happy Birthday Happy 92 for you\")\n",
    "a1=\"\"\n",
    "for item in a:\n",
    "    if item not in a1:\n",
    "        a1=a1+\" \"+item\n",
    "print(a1[1:])\n"
   ]
  },
  {
   "cell_type": "code",
   "execution_count": null,
   "metadata": {},
   "outputs": [],
   "source": [
    "###Parsing and Processing URL using Python – Regex\n",
    "print(re.findall(\"([a-zA-Z]+)://\", \"https://github.com/SimranWadhwa/TrainingPython-FIL/tree/main/python\"))\n",
    "#print(re.findall(\"[a-zA-Z]+://\", \"https://github.com/SimranWadhwa/TrainingPython-FIL/tree/main/python\"))\n",
    "print(re.findall(\"://([a-zA-Z0-9/_.-]+)\", \"https://github.com/Simran_Wadhwa/TrainingPython-FIL/tree/main/python\"))\n",
    "\n",
    "print(re.findall(\"([a-zA-Z]+)://([a-zA-Z0-9_/.-]+)\", \"https://github.com/SimranWadhwa/TrainingPython-FIL/tree/main/python\"))\n",
    "print(re.findall(\"/([a-zA-Z0-9_.-]+)\", \"https://github.com/Simran_Wadhwa/TrainingPython-FIL/tree/main/python\"))"
   ]
  }
 ],
 "metadata": {
  "kernelspec": {
   "display_name": "Python 3",
   "language": "python",
   "name": "python3"
  },
  "language_info": {
   "codemirror_mode": {
    "name": "ipython",
    "version": 3
   },
   "file_extension": ".py",
   "mimetype": "text/x-python",
   "name": "python",
   "nbconvert_exporter": "python",
   "pygments_lexer": "ipython3",
   "version": "3.7.4"
  }
 },
 "nbformat": 4,
 "nbformat_minor": 2
}
