{
 "cells": [
  {
   "cell_type": "code",
   "execution_count": 1,
   "metadata": {},
   "outputs": [
    {
     "name": "stdout",
     "output_type": "stream",
     "text": [
      "Array is of type:  <class 'numpy.ndarray'>\n",
      "No. of dimensions:  2\n",
      "Shape of array:  (3, 3)\n",
      "Size of array:  9\n",
      "Array stores elements of type:  int64\n"
     ]
    }
   ],
   "source": [
    "import numpy as np\n",
    "\n",
    "\n",
    "arr = np.array( [[ 1, 2, 3],\n",
    "\t\t\t\t[ 4, 2, 5],\n",
    "                [9,8,7]] )\n",
    "\n",
    "\n",
    "print(\"Array is of type: \", type(arr))\n",
    "\n",
    "\n",
    "print(\"No. of dimensions: \", arr.ndim)\n",
    "\n",
    "\n",
    "print(\"Shape of array: \", arr.shape)\n",
    "\n",
    "\n",
    "print(\"Size of array: \", arr.size)\n",
    "\n",
    "\n",
    "print(\"Array stores elements of type: \", arr.dtype)"
   ]
  },
  {
   "cell_type": "code",
   "execution_count": 4,
   "metadata": {},
   "outputs": [
    {
     "name": "stdout",
     "output_type": "stream",
     "text": [
      "Array is of type:  <class 'numpy.ndarray'>\n",
      "No. of dimensions:  3\n",
      "Shape of array:  (2, 2, 3)\n",
      "Size of array:  12\n",
      "Array stores elements of type:  int64\n",
      "1.17.2\n"
     ]
    }
   ],
   "source": [
    "arr3d = np.array([[[1, 2, 3], [4, 5, 6]], [[1, 2, 3], [4, 5, 6]]])\n",
    "print(\"Array is of type: \", type(arr3d))\n",
    "\n",
    "\n",
    "print(\"No. of dimensions: \", arr3d.ndim)\n",
    "\n",
    "\n",
    "print(\"Shape of array: \", arr3d.shape)\n",
    "\n",
    "\n",
    "print(\"Size of array: \", arr3d.size)\n",
    "\n",
    "\n",
    "print(\"Array stores elements of type: \", arr3d.dtype)\n",
    "\n",
    "print(np.__version__)"
   ]
  },
  {
   "cell_type": "code",
   "execution_count": 5,
   "metadata": {},
   "outputs": [
    {
     "name": "stdout",
     "output_type": "stream",
     "text": [
      "Array created using passed list:\n",
      " [[1. 2. 4.]\n",
      " [5. 8. 7.]]\n",
      "\n",
      "Array created using passed tuple:\n",
      " [1 3 2]\n",
      "\n",
      "An array initialized with all zeros:\n",
      " [[0. 0. 0. 0.]\n",
      " [0. 0. 0. 0.]\n",
      " [0. 0. 0. 0.]]\n",
      "\n",
      "An array initialized with all 6s.Array type is complex:\n",
      " [[6.+0.j 6.+0.j 6.+0.j]\n",
      " [6.+0.j 6.+0.j 6.+0.j]\n",
      " [6.+0.j 6.+0.j 6.+0.j]]\n",
      "\n",
      "A random array:\n",
      " [[0.20276765 0.92216898]\n",
      " [0.0306282  0.38756599]]\n",
      "\n",
      "A sequential array with steps of 5:\n",
      " [ 0  5 10 15 20 25]\n",
      "\n",
      "A sequential array with 10 values between0 and 5:\n",
      " [0.         0.55555556 1.11111111 1.66666667 2.22222222 2.77777778\n",
      " 3.33333333 3.88888889 4.44444444 5.        ]\n",
      "\n",
      "Original array:\n",
      " [[1 2 3 4]\n",
      " [5 2 4 2]\n",
      " [1 2 0 1]]\n",
      "Reshaped array:\n",
      " [[[1 2 3]\n",
      "  [4 5 2]]\n",
      "\n",
      " [[4 2 1]\n",
      "  [2 0 1]]]\n",
      "\n",
      "Original array:\n",
      " [[1 2 3]\n",
      " [4 5 6]]\n",
      "Fattened array:\n",
      " [1 2 3 4 5 6]\n"
     ]
    }
   ],
   "source": [
    "import numpy as np\n",
    "\n",
    "a = np.array([[1, 2, 4], [5, 8, 7]], dtype = 'float')\n",
    "print (\"Array created using passed list:\\n\", a)\n",
    "\n",
    "b = np.array((1 , 3, 2))\n",
    "print (\"\\nArray created using passed tuple:\\n\", b)\n",
    "\n",
    "\n",
    "c = np.zeros((3, 4))\n",
    "print (\"\\nAn array initialized with all zeros:\\n\", c)\n",
    "\n",
    "d = np.full((3, 3), 6, dtype = 'complex')\n",
    "print (\"\\nAn array initialized with all 6s.\"\n",
    "\t\t\t\"Array type is complex:\\n\", d)\n",
    "\n",
    "\n",
    "e = np.random.random((2, 2))\n",
    "print (\"\\nA random array:\\n\", e)\n",
    "\n",
    "\n",
    "f = np.arange(0, 30, 5)\n",
    "print (\"\\nA sequential array with steps of 5:\\n\", f)\n",
    "\n",
    "\n",
    "g = np.linspace(0, 5, 10)\n",
    "print (\"\\nA sequential array with 10 values between\"\n",
    "\t\t\t\t\t\t\t\t\t\t\"0 and 5:\\n\", g)\n",
    "arr = np.array([[1, 2, 3, 4],\n",
    "\t\t\t\t[5, 2, 4, 2],\n",
    "\t\t\t\t[1, 2, 0, 1]])\n",
    "\n",
    "newarr = arr.reshape(2, 2, 3)\n",
    "\n",
    "print (\"\\nOriginal array:\\n\", arr)\n",
    "print (\"Reshaped array:\\n\", newarr)\n",
    "arr = np.array([[1, 2, 3], [4, 5, 6]])\n",
    "flarr = arr.flatten()\n",
    "print (\"\\nOriginal array:\\n\", arr)\n",
    "print (\"Fattened array:\\n\", flarr)"
   ]
  },
  {
   "cell_type": "code",
   "execution_count": 6,
   "metadata": {},
   "outputs": [
    {
     "name": "stdout",
     "output_type": "stream",
     "text": [
      "Array with first 2 rows and alternatecolumns(0 and 2):\n",
      " [[-1.  0.]\n",
      " [ 4.  6.]]\n"
     ]
    }
   ],
   "source": [
    "import numpy as np\n",
    "\n",
    "\n",
    "arr = np.array([[-1, 2, 0, 4],\n",
    "\t\t\t\t[4, -0.5, 6, 0],\n",
    "\t\t\t\t[2.6, 0, 7, 8],\n",
    "\t\t\t\t[3, -7, 4, 2.0]])\n",
    "\n",
    "\n",
    "temp = arr[:2, ::2]\n",
    "print (\"Array with first 2 rows and alternate\"\n",
    "\t\t\t\t\t\"columns(0 and 2):\\n\", temp)\n"
   ]
  },
  {
   "cell_type": "code",
   "execution_count": 18,
   "metadata": {},
   "outputs": [
    {
     "name": "stdout",
     "output_type": "stream",
     "text": [
      "[ 8  4 11]\n",
      "[-6  4  5]\n",
      "[ 7  0 24]\n",
      "[0.14285714        inf 2.66666667]\n",
      "[1 0 2]\n",
      "[1 0 2]\n",
      "[1 0 0]\n",
      "[ 1 16 64]\n",
      "[  1   1 512]\n",
      "[2. 7. 0.]\n",
      "[0.  2.  0.4]\n",
      "[2.-0.j  7.-2.j  0.-0.4j]\n",
      "[1.         2.         2.82842712]\n",
      "1\n",
      "7\n",
      "4.333333333333333\n",
      "8\n",
      "[0.         1.38629436 2.07944154]\n",
      "[ 0.84147098 -0.7568025   0.98935825]\n",
      "[0 3 7]\n",
      "[1 4 8 2]\n",
      "[7 0 5 3]\n"
     ]
    },
    {
     "name": "stderr",
     "output_type": "stream",
     "text": [
      "/Users/shwetakumari/opt/anaconda3/lib/python3.7/site-packages/ipykernel_launcher.py:8: RuntimeWarning: divide by zero encountered in true_divide\n",
      "  \n",
      "/Users/shwetakumari/opt/anaconda3/lib/python3.7/site-packages/ipykernel_launcher.py:9: RuntimeWarning: divide by zero encountered in remainder\n",
      "  if __name__ == '__main__':\n",
      "/Users/shwetakumari/opt/anaconda3/lib/python3.7/site-packages/ipykernel_launcher.py:10: RuntimeWarning: divide by zero encountered in remainder\n",
      "  # Remove the CWD from sys.path while we load stuff.\n"
     ]
    }
   ],
   "source": [
    "###Arithmetic operations on numpy arrays\n",
    "a=np.array([1,4,8])\n",
    "b=np.array([7,0,3])\n",
    "c=np.array([2,7+2j,0.4j])\n",
    "print(np.add(a,b))\n",
    "print(np.subtract(a,b))\n",
    "print(np.multiply(a,b))\n",
    "print(np.divide(a,b))\n",
    "print(np.mod(a,b))\n",
    "print(np.remainder(a,b))\n",
    "print(np.reciprocal(a))\n",
    "print(np.power(a,2))\n",
    "print(np.power(a,b))\n",
    "print(np.real(c))\n",
    "print(np.imag(c))\n",
    "print(np.conj(c))\n",
    "print(np.sqrt(a))\n",
    "print(np.min(a))\n",
    "print(np.max(b))\n",
    "print(np.mean(a))\n",
    "print(np.max(a))\n",
    "print(np.log(a))\n",
    "print(np.sin(a))\n",
    "print(np.sort(b))\n",
    "print(np.append(a,2))\n",
    "print(np.insert(b,2,5))\n",
    "print(np.)"
   ]
  },
  {
   "cell_type": "code",
   "execution_count": 19,
   "metadata": {},
   "outputs": [
    {
     "name": "stdout",
     "output_type": "stream",
     "text": [
      "Largest element is: 9\n",
      "Row-wise maximum elements: [6 7 9]\n",
      "Column-wise minimum elements: [1 1 2]\n",
      "Sum of all array elements: 38\n",
      "Cumulative sum along each row:\n",
      " [[ 1  6 12]\n",
      " [ 4 11 13]\n",
      " [ 3  4 13]]\n"
     ]
    }
   ],
   "source": [
    "import numpy as np\n",
    "\n",
    "arr = np.array([[1, 5, 6],\n",
    "\t\t\t\t[4, 7, 2],\n",
    "\t\t\t\t[3, 1, 9]])\n",
    "\n",
    "print (\"Largest element is:\", arr.max())\n",
    "print (\"Row-wise maximum elements:\",\n",
    "\t\t\t\t\tarr.max(axis = 1))\n",
    "\n",
    "\n",
    "print (\"Column-wise minimum elements:\",\n",
    "\t\t\t\t\t\tarr.min(axis = 0))\n",
    "\n",
    "\n",
    "print (\"Sum of all array elements:\",\n",
    "\t\t\t\t\t\t\tarr.sum())\n",
    "\n",
    "\n",
    "print (\"Cumulative sum along each row:\\n\",\n",
    "\t\t\t\t\t\tarr.cumsum(axis = 1))"
   ]
  },
  {
   "cell_type": "code",
   "execution_count": 20,
   "metadata": {},
   "outputs": [
    {
     "name": "stdout",
     "output_type": "stream",
     "text": [
      "Sine values of array elements: [0.0000000e+00 1.0000000e+00 1.2246468e-16]\n",
      "Exponent of array elements: [ 1.          2.71828183  7.3890561  20.08553692]\n",
      "Square root of array elements: [0.         1.         1.41421356 1.73205081]\n"
     ]
    }
   ],
   "source": [
    "import numpy as np\n",
    "\n",
    "\n",
    "a = np.array([0, np.pi/2, np.pi])\n",
    "print (\"Sine values of array elements:\", np.sin(a))\n",
    "\n",
    "\n",
    "a = np.array([0, 1, 2, 3])\n",
    "print (\"Exponent of array elements:\", np.exp(a))\n",
    "\n",
    "\n",
    "print (\"Square root of array elements:\", np.sqrt(a))"
   ]
  },
  {
   "cell_type": "code",
   "execution_count": 21,
   "metadata": {},
   "outputs": [
    {
     "name": "stdout",
     "output_type": "stream",
     "text": [
      "Array elements in sorted order:\n",
      " [-1  0  1  2  3  4  4  5  6]\n",
      "Row-wise sorted array:\n",
      " [[ 1  2  4]\n",
      " [ 3  4  6]\n",
      " [-1  0  5]]\n",
      "Column wise sort by applying merge-sort:\n",
      " [[ 0 -1  2]\n",
      " [ 1  4  5]\n",
      " [ 3  4  6]]\n",
      "\n",
      "Array sorted by names:\n",
      " [(b'Aakash', 2009, 9. ) (b'Ajay', 2008, 8.7) (b'Hrithik', 2009, 8.5)\n",
      " (b'Pankaj', 2008, 7.9)]\n",
      "Array sorted by grauation year and then cgpa:\n",
      " [(b'Pankaj', 2008, 7.9) (b'Ajay', 2008, 8.7) (b'Hrithik', 2009, 8.5)\n",
      " (b'Aakash', 2009, 9. )]\n"
     ]
    }
   ],
   "source": [
    "import numpy as np\n",
    "\n",
    "a = np.array([[1, 4, 2],\n",
    "\t\t\t\t[3, 4, 6],\n",
    "\t\t\t[0, -1, 5]])\n",
    "\n",
    "print (\"Array elements in sorted order:\\n\",\n",
    "\t\t\t\t\tnp.sort(a, axis = None))\n",
    "\n",
    "\n",
    "print (\"Row-wise sorted array:\\n\",\n",
    "\t\t\t\tnp.sort(a, axis = 1))\n",
    "\n",
    "\n",
    "print (\"Column wise sort by applying merge-sort:\\n\",\n",
    "\t\t\tnp.sort(a, axis = 0, kind = 'mergesort'))\n",
    "\n",
    "\n",
    "dtypes = [('name', 'S10'), ('grad_year', int), ('cgpa', float)]\n",
    "\n",
    "\n",
    "values = [('Hrithik', 2009, 8.5), ('Ajay', 2008, 8.7),\n",
    "\t\t('Pankaj', 2008, 7.9), ('Aakash', 2009, 9.0)]\n",
    "\t\t\t\n",
    "\n",
    "arr = np.array(values, dtype = dtypes)\n",
    "print (\"\\nArray sorted by names:\\n\",\n",
    "\t\t\tnp.sort(arr, order = 'name'))\n",
    "\t\t\t\n",
    "print (\"Array sorted by grauation year and then cgpa:\\n\",\n",
    "\t\t\t\tnp.sort(arr, order = ['grad_year', 'cgpa']))"
   ]
  },
  {
   "cell_type": "code",
   "execution_count": 22,
   "metadata": {},
   "outputs": [
    {
     "name": "stdout",
     "output_type": "stream",
     "text": [
      "[[[[[1 2 3 4]]]]]\n",
      "shape of array : (1, 1, 1, 1, 4)\n"
     ]
    }
   ],
   "source": [
    "import numpy as np\n",
    "\n",
    "arr = np.array([1, 2, 3, 4], ndmin=5)\n",
    "\n",
    "print(arr)\n",
    "print('shape of array :', arr.shape)"
   ]
  },
  {
   "cell_type": "code",
   "execution_count": 23,
   "metadata": {},
   "outputs": [
    {
     "name": "stdout",
     "output_type": "stream",
     "text": [
      "[[ 1  2  3]\n",
      " [ 4  5  6]\n",
      " [ 7  8  9]\n",
      " [10 11 12]]\n"
     ]
    }
   ],
   "source": [
    "import numpy as np\n",
    "\n",
    "arr = np.array([1, 2, 3, 4, 5, 6, 7, 8, 9, 10, 11, 12])\n",
    "\n",
    "newarr = arr.reshape(4, 3)\n",
    "\n",
    "print(newarr)"
   ]
  },
  {
   "cell_type": "code",
   "execution_count": null,
   "metadata": {},
   "outputs": [],
   "source": []
  }
 ],
 "metadata": {
  "kernelspec": {
   "display_name": "Python 3",
   "language": "python",
   "name": "python3"
  },
  "language_info": {
   "codemirror_mode": {
    "name": "ipython",
    "version": 3
   },
   "file_extension": ".py",
   "mimetype": "text/x-python",
   "name": "python",
   "nbconvert_exporter": "python",
   "pygments_lexer": "ipython3",
   "version": "3.7.4"
  }
 },
 "nbformat": 4,
 "nbformat_minor": 2
}
